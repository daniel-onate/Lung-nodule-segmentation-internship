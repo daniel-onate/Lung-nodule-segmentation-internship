{
 "cells": [
  {
   "cell_type": "code",
   "execution_count": 24,
   "id": "015bfaa0",
   "metadata": {},
   "outputs": [],
   "source": [
    "import pandas as pd"
   ]
  },
  {
   "cell_type": "code",
   "execution_count": 26,
   "id": "55e50212",
   "metadata": {},
   "outputs": [
    {
     "data": {
      "text/html": [
       "<div>\n",
       "<style scoped>\n",
       "    .dataframe tbody tr th:only-of-type {\n",
       "        vertical-align: middle;\n",
       "    }\n",
       "\n",
       "    .dataframe tbody tr th {\n",
       "        vertical-align: top;\n",
       "    }\n",
       "\n",
       "    .dataframe thead th {\n",
       "        text-align: right;\n",
       "    }\n",
       "</style>\n",
       "<table border=\"1\" class=\"dataframe\">\n",
       "  <thead>\n",
       "    <tr style=\"text-align: right;\">\n",
       "      <th></th>\n",
       "      <th>Unnamed: 0</th>\n",
       "      <th>Patient_ID</th>\n",
       "      <th>Lesion_nr</th>\n",
       "      <th>Malignancy_int</th>\n",
       "      <th>Lesion_dim_x</th>\n",
       "      <th>Lesion_dim_y</th>\n",
       "      <th>Lesion_dim_z</th>\n",
       "      <th>Centroid_x</th>\n",
       "      <th>Centroid_y</th>\n",
       "      <th>Centroid_z</th>\n",
       "    </tr>\n",
       "  </thead>\n",
       "  <tbody>\n",
       "    <tr>\n",
       "      <th>0</th>\n",
       "      <td>0</td>\n",
       "      <td>LIDC_IDRI_0001</td>\n",
       "      <td>0</td>\n",
       "      <td>1</td>\n",
       "      <td>26</td>\n",
       "      <td>31</td>\n",
       "      <td>20</td>\n",
       "      <td>222</td>\n",
       "      <td>101</td>\n",
       "      <td>225</td>\n",
       "    </tr>\n",
       "    <tr>\n",
       "      <th>1</th>\n",
       "      <td>1</td>\n",
       "      <td>LIDC_IDRI_0001</td>\n",
       "      <td>x</td>\n",
       "      <td>1</td>\n",
       "      <td>1</td>\n",
       "      <td>1</td>\n",
       "      <td>3</td>\n",
       "      <td>218</td>\n",
       "      <td>118</td>\n",
       "      <td>223</td>\n",
       "    </tr>\n",
       "    <tr>\n",
       "      <th>2</th>\n",
       "      <td>2</td>\n",
       "      <td>LIDC_IDRI_0002</td>\n",
       "      <td>1</td>\n",
       "      <td>1</td>\n",
       "      <td>31</td>\n",
       "      <td>19</td>\n",
       "      <td>29</td>\n",
       "      <td>235</td>\n",
       "      <td>101</td>\n",
       "      <td>232</td>\n",
       "    </tr>\n",
       "    <tr>\n",
       "      <th>3</th>\n",
       "      <td>3</td>\n",
       "      <td>LIDC_IDRI_0003</td>\n",
       "      <td>2</td>\n",
       "      <td>1</td>\n",
       "      <td>14</td>\n",
       "      <td>14</td>\n",
       "      <td>13</td>\n",
       "      <td>182</td>\n",
       "      <td>239</td>\n",
       "      <td>210</td>\n",
       "    </tr>\n",
       "    <tr>\n",
       "      <th>4</th>\n",
       "      <td>4</td>\n",
       "      <td>LIDC_IDRI_0003</td>\n",
       "      <td>3</td>\n",
       "      <td>1</td>\n",
       "      <td>12</td>\n",
       "      <td>8</td>\n",
       "      <td>10</td>\n",
       "      <td>252</td>\n",
       "      <td>257</td>\n",
       "      <td>208</td>\n",
       "    </tr>\n",
       "  </tbody>\n",
       "</table>\n",
       "</div>"
      ],
      "text/plain": [
       "   Unnamed: 0      Patient_ID Lesion_nr  Malignancy_int  Lesion_dim_x  \\\n",
       "0           0  LIDC_IDRI_0001         0               1            26   \n",
       "1           1  LIDC_IDRI_0001         x               1             1   \n",
       "2           2  LIDC_IDRI_0002         1               1            31   \n",
       "3           3  LIDC_IDRI_0003         2               1            14   \n",
       "4           4  LIDC_IDRI_0003         3               1            12   \n",
       "\n",
       "   Lesion_dim_y  Lesion_dim_z  Centroid_x  Centroid_y  Centroid_z  \n",
       "0            31            20         222         101         225  \n",
       "1             1             3         218         118         223  \n",
       "2            19            29         235         101         232  \n",
       "3            14            13         182         239         210  \n",
       "4             8            10         252         257         208  "
      ]
     },
     "execution_count": 26,
     "metadata": {},
     "output_type": "execute_result"
    }
   ],
   "source": [
    "nodules = pd.read_excel(\"Overview_lesions_corrected.xlsx\")\n",
    "nodules.head()"
   ]
  },
  {
   "cell_type": "code",
   "execution_count": 27,
   "id": "57db992b",
   "metadata": {},
   "outputs": [
    {
     "data": {
      "text/html": [
       "<div>\n",
       "<style scoped>\n",
       "    .dataframe tbody tr th:only-of-type {\n",
       "        vertical-align: middle;\n",
       "    }\n",
       "\n",
       "    .dataframe tbody tr th {\n",
       "        vertical-align: top;\n",
       "    }\n",
       "\n",
       "    .dataframe thead th {\n",
       "        text-align: right;\n",
       "    }\n",
       "</style>\n",
       "<table border=\"1\" class=\"dataframe\">\n",
       "  <thead>\n",
       "    <tr style=\"text-align: right;\">\n",
       "      <th></th>\n",
       "      <th>Patient_ID</th>\n",
       "      <th>Lesion_nr</th>\n",
       "      <th>Malignancy_int</th>\n",
       "    </tr>\n",
       "  </thead>\n",
       "  <tbody>\n",
       "    <tr>\n",
       "      <th>0</th>\n",
       "      <td>LIDC_IDRI_0001</td>\n",
       "      <td>0</td>\n",
       "      <td>1</td>\n",
       "    </tr>\n",
       "    <tr>\n",
       "      <th>1</th>\n",
       "      <td>LIDC_IDRI_0001</td>\n",
       "      <td>x</td>\n",
       "      <td>1</td>\n",
       "    </tr>\n",
       "    <tr>\n",
       "      <th>2</th>\n",
       "      <td>LIDC_IDRI_0002</td>\n",
       "      <td>1</td>\n",
       "      <td>1</td>\n",
       "    </tr>\n",
       "    <tr>\n",
       "      <th>3</th>\n",
       "      <td>LIDC_IDRI_0003</td>\n",
       "      <td>2</td>\n",
       "      <td>1</td>\n",
       "    </tr>\n",
       "    <tr>\n",
       "      <th>4</th>\n",
       "      <td>LIDC_IDRI_0003</td>\n",
       "      <td>3</td>\n",
       "      <td>1</td>\n",
       "    </tr>\n",
       "  </tbody>\n",
       "</table>\n",
       "</div>"
      ],
      "text/plain": [
       "       Patient_ID Lesion_nr  Malignancy_int\n",
       "0  LIDC_IDRI_0001         0               1\n",
       "1  LIDC_IDRI_0001         x               1\n",
       "2  LIDC_IDRI_0002         1               1\n",
       "3  LIDC_IDRI_0003         2               1\n",
       "4  LIDC_IDRI_0003         3               1"
      ]
     },
     "execution_count": 27,
     "metadata": {},
     "output_type": "execute_result"
    }
   ],
   "source": [
    "nodules.drop([\"Unnamed: 0\", \"Lesion_dim_x\", \"Lesion_dim_y\", \"Lesion_dim_z\", \"Centroid_x\", \"Centroid_y\", \"Centroid_z\"], axis=1, inplace=True)\n",
    "nodules.head()"
   ]
  },
  {
   "cell_type": "code",
   "execution_count": 28,
   "id": "8cfa779b",
   "metadata": {},
   "outputs": [
    {
     "name": "stdout",
     "output_type": "stream",
     "text": [
      "       Patient_ID Lesion_nr  Malignancy_int\n",
      "0  LIDC_IDRI_0001         0               1\n",
      "2  LIDC_IDRI_0002         1               1\n",
      "3  LIDC_IDRI_0003         2               1\n",
      "4  LIDC_IDRI_0003         3               1\n",
      "5  LIDC_IDRI_0003         4               1\n",
      "(891, 3)\n"
     ]
    }
   ],
   "source": [
    "nodules = nodules.query(\"Lesion_nr != 'x'\")\n",
    "print(nodules.head())\n",
    "\n",
    "print(nodules.shape)"
   ]
  },
  {
   "cell_type": "code",
   "execution_count": 29,
   "id": "aecfb1f2",
   "metadata": {},
   "outputs": [
    {
     "name": "stdout",
     "output_type": "stream",
     "text": [
      "          Patient_ID Lesion_nr  Malignancy_int\n",
      "1291  LIDC_IDRI_0660       621               2\n",
      "1292  LIDC_IDRI_0660       622               1\n",
      "1293  LIDC_IDRI_0660       623               1\n",
      "1295  LIDC_IDRI_0661       624               1\n",
      "1298  LIDC_IDRI_0662       625               2\n",
      "          Patient_ID Lesion_nr  Malignancy_int\n",
      "1568  LIDC_IDRI_0821       755               1\n",
      "1574  LIDC_IDRI_0826       756               1\n",
      "1575  LIDC_IDRI_0826       757               1\n",
      "1578  LIDC_IDRI_0827       758               2\n",
      "1579  LIDC_IDRI_0828       759               1\n",
      "Patient_ID        LIDC_IDRI_1011\n",
      "Lesion_nr                    890\n",
      "Malignancy_int                 1\n",
      "Name: 1893, dtype: object\n"
     ]
    }
   ],
   "source": [
    "#split\n",
    "# 1-623 train\n",
    "# 624-757 validation\n",
    "# 758-891 test\n",
    "\n",
    "#patients \n",
    "# 1-0660 train\n",
    "# 0661-0826 validation\n",
    "# 0827-1012 test\n",
    "\n",
    "\n",
    "print(nodules.iloc[621:626])\n",
    "print(nodules.iloc[755:760])\n",
    "print(nodules.iloc[890])"
   ]
  }
 ],
 "metadata": {
  "kernelspec": {
   "display_name": "pytorchenv",
   "language": "python",
   "name": "python3"
  },
  "language_info": {
   "codemirror_mode": {
    "name": "ipython",
    "version": 3
   },
   "file_extension": ".py",
   "mimetype": "text/x-python",
   "name": "python",
   "nbconvert_exporter": "python",
   "pygments_lexer": "ipython3",
   "version": "3.11.13"
  }
 },
 "nbformat": 4,
 "nbformat_minor": 5
}
